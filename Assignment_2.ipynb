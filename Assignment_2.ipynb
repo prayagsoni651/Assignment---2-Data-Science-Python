{
 "cells": [
  {
   "cell_type": "code",
   "execution_count": 1,
   "metadata": {},
   "outputs": [
    {
     "data": {
      "text/plain": [
       "\"\\n    1.What are the two values of the Boolean data type? How do you write them?\\n2. What are the three different types of Boolean operators?\\n3. Make a list of each Boolean operator's truth tables (i.e. every possible combination of Boolean values for the operator and what it evaluate ).\\n4. What are the values of the following expressions?\\n(5 > 4) and (3 == 5)\\nnot (5 > 4)\\n(5 > 4) or (3 == 5)\\nnot ((5 > 4) or (3 == 5))\\n(True and True) and (True == False)\\n(not False) or (not True)\\n5. What are the six comparison operators?\\n6. How do you tell the difference between the equal to and assignment operators?Describe a condition and when you would use one.\\n7. Identify the three blocks in this code:\\nspam = 0\\nif spam == 10:\\nprint('eggs')\\nif spam > 5:\\nprint('bacon')\\nelse:\\nprint('ham')\\nprint('spam')\\nprint('spam')\\n8. Write code that prints Hello if 1 is stored in spam, prints Howdy if 2 is stored in spam, and prints Greetings! if anything else is stored in spam.\\n\\n\\n9.If your programme is stuck in an endless loop, what keys you’ll press?\\n10. How can you tell the difference between break and continue?\\n11. In a for loop, what is the difference between range(10), range(0, 10), and range(0, 10, 1)?\\n12. Write a short program that prints the numbers 1 to 10 using a for loop. Then write an equivalent program that prints the numbers 1 to 10 using a while loop.\\n13. If you had a function named bacon() inside a module named spam, how would you call it after importing spam?\\n\\n\\n    \""
      ]
     },
     "execution_count": 1,
     "metadata": {},
     "output_type": "execute_result"
    }
   ],
   "source": [
    "\"\"\"\n",
    "    1.What are the two values of the Boolean data type? How do you write them?\n",
    "2. What are the three different types of Boolean operators?\n",
    "3. Make a list of each Boolean operator's truth tables (i.e. every possible combination of Boolean values for the operator and what it evaluate ).\n",
    "4. What are the values of the following expressions?\n",
    "(5 > 4) and (3 == 5)\n",
    "not (5 > 4)\n",
    "(5 > 4) or (3 == 5)\n",
    "not ((5 > 4) or (3 == 5))\n",
    "(True and True) and (True == False)\n",
    "(not False) or (not True)\n",
    "5. What are the six comparison operators?\n",
    "6. How do you tell the difference between the equal to and assignment operators?Describe a condition and when you would use one.\n",
    "7. Identify the three blocks in this code:\n",
    "spam = 0\n",
    "if spam == 10:\n",
    "print('eggs')\n",
    "if spam > 5:\n",
    "print('bacon')\n",
    "else:\n",
    "print('ham')\n",
    "print('spam')\n",
    "print('spam')\n",
    "8. Write code that prints Hello if 1 is stored in spam, prints Howdy if 2 is stored in spam, and prints Greetings! if anything else is stored in spam.\n",
    "\n",
    "\n",
    "9.If your programme is stuck in an endless loop, what keys you’ll press?\n",
    "10. How can you tell the difference between break and continue?\n",
    "11. In a for loop, what is the difference between range(10), range(0, 10), and range(0, 10, 1)?\n",
    "12. Write a short program that prints the numbers 1 to 10 using a for loop. Then write an equivalent program that prints the numbers 1 to 10 using a while loop.\n",
    "13. If you had a function named bacon() inside a module named spam, how would you call it after importing spam?\n",
    "\n",
    "\n",
    "    \"\"\""
   ]
  },
  {
   "cell_type": "code",
   "execution_count": 2,
   "metadata": {},
   "outputs": [
    {
     "name": "stdout",
     "output_type": "stream",
     "text": [
      "This condition is True\n",
      "This condition is also True\n"
     ]
    }
   ],
   "source": [
    "#  1.What are the two values of the Boolean data type? How do you write them?\n",
    "\n",
    "\n",
    "# the Boolean data type has two values: True and False. These values \n",
    "# are used to represent the truthfulness or falseness of a statement\n",
    "# or condition in the program.\n",
    "\n",
    "\n",
    "# -------------------------------------------------------------#\n",
    "\n",
    "# Assigning Boolean values to variables\n",
    "is_true = True\n",
    "is_false = False\n",
    "\n",
    "# Using Boolean values in conditions\n",
    "if is_true:\n",
    "    print(\"This condition is True\")\n",
    "\n",
    "if not is_false:\n",
    "    print(\"This condition is also True\")\n"
   ]
  },
  {
   "cell_type": "code",
   "execution_count": 3,
   "metadata": {},
   "outputs": [
    {
     "name": "stdout",
     "output_type": "stream",
     "text": [
      "False\n",
      "True\n"
     ]
    }
   ],
   "source": [
    "# 2. What are the three different types of Boolean operators?\n",
    "\n",
    "# Boolean operators are used to perform logical operations on Boolean values.\n",
    "# There are three primary Boolean operators:\n",
    "\n",
    "#  1 ---  AND (and): The and operator returns True if both \n",
    "#         operands are true; otherwise, it returns False\n",
    "x = True\n",
    "y = False\n",
    "\n",
    "result = x and y\n",
    "print(result)  # Output: False\n",
    "\n",
    "# 2 ---- OR (or): The or operator returns True if at least one of the \n",
    "#        operands is true; if both are false, it returns False\n",
    "\n",
    "a = True\n",
    "b = False\n",
    "\n",
    "result = a or b\n",
    "print(result)  # Output: True\n",
    "\n",
    "# 3---- NOT (not): The not operator is a unary operator that returns \n",
    "# the opposite of the operand. If the operand is True, not returns\n",
    "# False; if the operand is False, not returns True\n",
    "\n",
    "c = True\n",
    "\n",
    "result = not c\n",
    "print(result)  # Output: False\n",
    "\n",
    "# These Boolean operators are commonly used in conditional statements,\n",
    "# loops, and other situations where logical comparisons are necessary."
   ]
  },
  {
   "cell_type": "code",
   "execution_count": 4,
   "metadata": {},
   "outputs": [
    {
     "data": {
      "text/plain": [
       "'\\n1 --- AND (and) Truth Table:\\n\\nA\\t             B\\t               A and B\\nTrue\\t        True\\t            True\\nTrue\\t        False\\t            False\\nFalse\\t        True\\t            False\\nFalse\\t        False\\t            False\\n\\n\\n2 --- OR (or) Truth Table:\\n\\nA\\t      B\\t    A or B\\nTrue\\tTrue\\tTrue\\nTrue\\tFalse\\tTrue\\nFalse\\tTrue\\tTrue\\nFalse\\tFalse\\tFalse\\n\\n\\n\\n3 --- NOT (not) Truth Table:\\n\\nA\\t    not A\\nTrue\\tFalse\\nFalse\\tTrue\\n\\n\\n'"
      ]
     },
     "execution_count": 4,
     "metadata": {},
     "output_type": "execute_result"
    }
   ],
   "source": [
    "# 3. Make a list of each Boolean operator's truth tables (i.e. every possible\n",
    "# combination of Boolean values for the operator and what it evaluate ).\n",
    "\n",
    "\n",
    "\"\"\"\n",
    "1 --- AND (and) Truth Table:\n",
    "\n",
    "A\t             B\t               A and B\n",
    "True\t        True\t            True\n",
    "True\t        False\t            False\n",
    "False\t        True\t            False\n",
    "False\t        False\t            False\n",
    "\n",
    "\n",
    "2 --- OR (or) Truth Table:\n",
    "\n",
    "A\t      B\t    A or B\n",
    "True\tTrue\tTrue\n",
    "True\tFalse\tTrue\n",
    "False\tTrue\tTrue\n",
    "False\tFalse\tFalse\n",
    "\n",
    "\n",
    "\n",
    "3 --- NOT (not) Truth Table:\n",
    "\n",
    "A\t    not A\n",
    "True\tFalse\n",
    "False\tTrue\n",
    "\n",
    "\n",
    "\"\"\""
   ]
  },
  {
   "cell_type": "code",
   "execution_count": 5,
   "metadata": {},
   "outputs": [
    {
     "data": {
      "text/plain": [
       "'\\n(5 > 4) and (3 == 5):\\n\\nThe first part, 5 > 4, is True.\\nThe second part, 3 == 5, is False.\\nThe result of the and operation is True and False, which evaluates to False.\\nnot (5 > 4):\\n\\nThe expression inside the not operator is 5 > 4, which is True.\\nThe not operator negates it, so the result is False.\\n(5 > 4) or (3 == 5):\\n\\nThe first part, 5 > 4, is True.\\nThe second part, 3 == 5, is False.\\nThe result of the or operation is True or False, which evaluates to True.\\nnot ((5 > 4) or (3 == 5)):\\n\\nThe inner part, (5 > 4) or (3 == 5), is True.\\nThe not operator negates it, so the result is False.\\n(True and True) and (True == False):\\n\\nThe first part, True and True, is True.\\nThe second part, True == False, is False.\\nThe result of the and operation is True and False, which evaluates to False.\\n(not False) or (not True):\\n\\nThe first part, not False, is True.\\nThe second part, not True, is False.\\nThe result of the or operation is True or False, which evaluates to True.\\nSo, the values of the given expressions are:\\n\\n\\n------------ Answeer  is ----------------\\n\\nFalse\\nFalse\\nTrue\\nFalse\\nFalse\\nTrue\\n'"
      ]
     },
     "execution_count": 5,
     "metadata": {},
     "output_type": "execute_result"
    }
   ],
   "source": [
    "# 4. What are the values of the following expressions?\n",
    "# (5 > 4) and (3 == 5)\n",
    "# not (5 > 4)\n",
    "# (5 > 4) or (3 == 5)\n",
    "# not ((5 > 4) or (3 == 5))\n",
    "# (True and True) and (True == False)\n",
    "# (not False) or (not True)\n",
    "'''\n",
    "(5 > 4) and (3 == 5):\n",
    "\n",
    "The first part, 5 > 4, is True.\n",
    "The second part, 3 == 5, is False.\n",
    "The result of the and operation is True and False, which evaluates to False.\n",
    "not (5 > 4):\n",
    "\n",
    "The expression inside the not operator is 5 > 4, which is True.\n",
    "The not operator negates it, so the result is False.\n",
    "(5 > 4) or (3 == 5):\n",
    "\n",
    "The first part, 5 > 4, is True.\n",
    "The second part, 3 == 5, is False.\n",
    "The result of the or operation is True or False, which evaluates to True.\n",
    "not ((5 > 4) or (3 == 5)):\n",
    "\n",
    "The inner part, (5 > 4) or (3 == 5), is True.\n",
    "The not operator negates it, so the result is False.\n",
    "(True and True) and (True == False):\n",
    "\n",
    "The first part, True and True, is True.\n",
    "The second part, True == False, is False.\n",
    "The result of the and operation is True and False, which evaluates to False.\n",
    "(not False) or (not True):\n",
    "\n",
    "The first part, not False, is True.\n",
    "The second part, not True, is False.\n",
    "The result of the or operation is True or False, which evaluates to True.\n",
    "So, the values of the given expressions are:\n",
    "\n",
    "\n",
    "------------ Answeer  is ----------------\n",
    "\n",
    "False\n",
    "False\n",
    "True\n",
    "False\n",
    "False\n",
    "True\n",
    "'''"
   ]
  },
  {
   "cell_type": "code",
   "execution_count": 6,
   "metadata": {},
   "outputs": [
    {
     "data": {
      "text/plain": [
       "'\\n1 - Equal to (==):\\n\\nDefinition: Checks if the values on the left and right sides are equal.\\nExample: x == y\\n\\n\\n2 - Not equal to (!=):\\n\\nDefinition: Checks if the values on the left and right sides are not equal.\\nExample: x != y\\n\\n\\n3 - Greater than (>):\\n\\nDefinition: Checks if the value on the left side is greater than the value on the right side.\\nExample: x > y\\n\\n\\n4 - Less than (<):\\n\\nDefinition: Checks if the value on the left side is less than the value on the right side.\\nExample: x < y\\n\\n\\n5 - Greater than or equal to (>=):\\n\\nDefinition: Checks if the value on the left side is greater than or equal to the value on the right side.\\nExample: x >= y\\n\\n\\n6 - Less than or equal to (<=):\\n\\nDefinition: Checks if the value on the left side is less than or equal to the value on the right side.\\nExample: x <= y\\n'"
      ]
     },
     "execution_count": 6,
     "metadata": {},
     "output_type": "execute_result"
    }
   ],
   "source": [
    "# 5. What are the six comparison operators?\n",
    "'''\n",
    "1 - Equal to (==):\n",
    "\n",
    "Definition: Checks if the values on the left and right sides are equal.\n",
    "Example: x == y\n",
    "\n",
    "\n",
    "2 - Not equal to (!=):\n",
    "\n",
    "Definition: Checks if the values on the left and right sides are not equal.\n",
    "Example: x != y\n",
    "\n",
    "\n",
    "3 - Greater than (>):\n",
    "\n",
    "Definition: Checks if the value on the left side is greater than the value on the right side.\n",
    "Example: x > y\n",
    "\n",
    "\n",
    "4 - Less than (<):\n",
    "\n",
    "Definition: Checks if the value on the left side is less than the value on the right side.\n",
    "Example: x < y\n",
    "\n",
    "\n",
    "5 - Greater than or equal to (>=):\n",
    "\n",
    "Definition: Checks if the value on the left side is greater than or equal to the value on the right side.\n",
    "Example: x >= y\n",
    "\n",
    "\n",
    "6 - Less than or equal to (<=):\n",
    "\n",
    "Definition: Checks if the value on the left side is less than or equal to the value on the right side.\n",
    "Example: x <= y\n",
    "'''"
   ]
  },
  {
   "cell_type": "code",
   "execution_count": 8,
   "metadata": {},
   "outputs": [
    {
     "name": "stdout",
     "output_type": "stream",
     "text": [
      "The entered number is not equal to the constant.\n"
     ]
    }
   ],
   "source": [
    "# 6. How do you tell the difference between the equal to and\n",
    "# assignment operators?Describe a condition and when you would use one.\n",
    "\n",
    "\n",
    "# the equal to operator (==) and the assignment operator (=) serve\n",
    "# different purposes, and they are used in distinct contexts.\n",
    "\n",
    "# 1 - Equal to Operator (==):\n",
    "\n",
    "# Purpose: The equal to operator is used for comparison. It checks if the values\n",
    "# on both sides are equal\n",
    "'''\n",
    "x = 5\n",
    "y = 10\n",
    "\n",
    "if x == y:\n",
    "    print(\"x is equal to y\")\n",
    "else:\n",
    "    print(\"x is not equal to y\")\n",
    "'''\n",
    "\n",
    "\n",
    "\n",
    "\n",
    "# 2 - Assignment Operator (=):\n",
    "\n",
    "# Purpose: The assignment operator is used to assign a value to a variable\n",
    "\n",
    "'''\n",
    "x = 5\n",
    "y = x + 3\n",
    "\n",
    "'''\n",
    "\n",
    "\n",
    "# To differentiate between them:\n",
    "\n",
    "# The equal to operator (==) is used for comparison and returns a Boolean\n",
    "# result (True or False).\n",
    "\n",
    "# The assignment operator (=) is used to assign a value to a variable.\n",
    "\n",
    "'''\n",
    "Suppose you want to check if a user-provided value is equal to a \n",
    "predetermined constant, and if so, perform a specific action. \n",
    "You would use the equal to operator in this case\n",
    "'''\n",
    "\n",
    "user_input = int(input(\"Enter a number: \"))\n",
    "constant_value = 10\n",
    "\n",
    "if user_input == constant_value:\n",
    "    print(\"The entered number is equal to the constant.\")\n",
    "else:\n",
    "    print(\"The entered number is not equal to the constant.\")\n",
    "\n"
   ]
  },
  {
   "cell_type": "code",
   "execution_count": 9,
   "metadata": {},
   "outputs": [
    {
     "data": {
      "text/plain": [
       "\"\\n       else:\\n         print('ham')\\n         \\n         This block is associated with the else statement that\\n         corresponds to the second if statement. If spam is not \\n         greater than 5, the code inside this block (print('ham'))\\n         will be executed\\n     \\n\""
      ]
     },
     "execution_count": 9,
     "metadata": {},
     "output_type": "execute_result"
    }
   ],
   "source": [
    "'''\n",
    "7. Identify the three blocks in this code:\n",
    "spam = 0\n",
    "if spam == 10:\n",
    "    print('eggs')\n",
    "if spam > 5:\n",
    "    print('bacon')\n",
    "else:\n",
    "    print('ham')\n",
    "    print('spam')\n",
    "    print('spam')\n",
    "\n",
    "'''\n",
    "\n",
    "# block - 1\n",
    "\n",
    "'''\n",
    "         if spam == 10:\n",
    "            print('eggs')\n",
    "            \n",
    "            This block is associated with the first if statement and \n",
    "            contains the print('eggs') statement. However, since\n",
    "            spam is not equal to 10 in this case, the code inside \n",
    "            this block will not be executed.\n",
    "'''\n",
    "\n",
    "# block - 2\n",
    "\n",
    "'''\n",
    "         if spam > 5:\n",
    "            print('bacon')\n",
    "            \n",
    "            This block is associated with the second if statement. If \n",
    "            spam were greater than 5, the code inside this block \n",
    "            (print('bacon')) would be executed. In the given code,\n",
    "            since spam is not greater than 5, this block is skipped\n",
    "\n",
    "'''\n",
    "\n",
    "# block - 3\n",
    "\n",
    "'''\n",
    "       else:\n",
    "         print('ham')\n",
    "         \n",
    "         This block is associated with the else statement that\n",
    "         corresponds to the second if statement. If spam is not \n",
    "         greater than 5, the code inside this block (print('ham'))\n",
    "         will be executed\n",
    "     \n",
    "'''"
   ]
  },
  {
   "cell_type": "code",
   "execution_count": 10,
   "metadata": {},
   "outputs": [
    {
     "name": "stdout",
     "output_type": "stream",
     "text": [
      "Hello\n"
     ]
    }
   ],
   "source": [
    "# 8. Write code that prints Hello if 1 is stored in spam, prints Howdy\n",
    "# if 2 is stored in spam, and prints Greetings! if anything else is \n",
    "# stored in spam.\n",
    "\n",
    "\n",
    "spam = int(input(\"Enter a value for spam: \")) \n",
    "if spam == 1:\n",
    "    print(\"Hello\")\n",
    "elif spam == 2:\n",
    "    print(\"Howdy\")\n",
    "else:\n",
    "    print(\"Greetings!\")\n"
   ]
  },
  {
   "cell_type": "code",
   "execution_count": 11,
   "metadata": {},
   "outputs": [
    {
     "data": {
      "text/plain": [
       "'\\nIf your program is stuck in an endless loop, you can typically interrupt\\nthe execution using a keyboard shortcut. In most development environments \\nand terminals, you can use the following key combination:\\n\\nCtrl + C (Control + C): Press and hold the Ctrl key, then press\\nthe C key. This combination is used to send an interrupt signal \\nto the running program, which should terminate the execution\\n\\n'"
      ]
     },
     "execution_count": 11,
     "metadata": {},
     "output_type": "execute_result"
    }
   ],
   "source": [
    "# 9.If your programme is stuck in an endless loop, what keys you’ll press?\n",
    "\n",
    "'''\n",
    "If your program is stuck in an endless loop, you can typically interrupt\n",
    "the execution using a keyboard shortcut. In most development environments \n",
    "and terminals, you can use the following key combination:\n",
    "\n",
    "Ctrl + C (Control + C): Press and hold the Ctrl key, then press\n",
    "the C key. This combination is used to send an interrupt signal \n",
    "to the running program, which should terminate the execution\n",
    "\n",
    "'''\n",
    "\n"
   ]
  },
  {
   "cell_type": "code",
   "execution_count": 12,
   "metadata": {},
   "outputs": [
    {
     "name": "stdout",
     "output_type": "stream",
     "text": [
      "0\n",
      "1\n",
      "2\n",
      "0\n",
      "1\n",
      "3\n",
      "4\n"
     ]
    }
   ],
   "source": [
    "# 10. How can you tell the difference between break and continue?\n",
    "\n",
    "'''\n",
    "\n",
    "break:\n",
    "\n",
    "Purpose: The break statement is used to exit a loop prematurely.\n",
    "When encountered inside a loop, it immediately terminates the loop,\n",
    "and the program resumes execution after the loop'''\n",
    "\n",
    "for i in range(5):\n",
    "    if i == 3:\n",
    "        break\n",
    "    print(i)\n",
    "\n",
    "\n",
    "'''\n",
    "continue:\n",
    "\n",
    "Purpose: The continue statement is used to skip the rest of the\n",
    "code inside a loop for the current iteration and move on to the \n",
    "next iteration'''\n",
    "\n",
    "for i in range(5):\n",
    "    if i == 2:\n",
    "        continue\n",
    "    print(i)\n",
    "    \n",
    "    '''break is used to exit the entire loop prematurely.\n",
    "continue is used to skip the rest of the code inside the loop for\n",
    "the current iteration and move to the next iteration'''\n"
   ]
  },
  {
   "cell_type": "code",
   "execution_count": 21,
   "metadata": {},
   "outputs": [
    {
     "name": "stdout",
     "output_type": "stream",
     "text": [
      "0\n",
      "1\n",
      "2\n",
      "3\n",
      "4\n",
      "5\n",
      "6\n",
      "7\n",
      "8\n",
      "9\n",
      "0\n",
      "1\n",
      "2\n",
      "3\n",
      "4\n",
      "5\n",
      "6\n",
      "7\n",
      "8\n",
      "9\n",
      "0\n",
      "1\n",
      "2\n",
      "3\n",
      "4\n",
      "5\n",
      "6\n",
      "7\n",
      "8\n",
      "9\n"
     ]
    }
   ],
   "source": [
    "# 11. In a for loop, what is the difference between range(10), \n",
    "# range(0, 10), and range(0, 10, 1)?\n",
    "\n",
    "\n",
    "    \n",
    "'''\n",
    "1 - range(10):\n",
    "\n",
    "This expression generates a sequence of numbers starting from 0 up to,\n",
    "but not including, 10.\n",
    "It is equivalent to range(0, 10, 1) and range(0, 10)'''\n",
    "\n",
    "for i in range(10):\n",
    "    print(i)\n",
    "\n",
    "\n",
    "'''\n",
    "2 - range(0, 10):\n",
    "\n",
    "This expression explicitly specifies the starting point (0) and \n",
    "the ending point (10) of the sequence. The step size is assumed to be\n",
    "1 by default.\n",
    "It is equivalent to range(0, 10, 1) and range(10)'''\n",
    "\n",
    "for i in range(0, 10):\n",
    "    print(i)\n",
    "\n",
    "\n",
    "\n",
    "'''\n",
    "3 - range(0, 10, 1):\n",
    "\n",
    "This expression explicitly specifies the starting point (0), ending \n",
    "point (10), and the step size (1) of the sequence. Although the \n",
    "step size is specified as 1, which is the default, it doesn't \n",
    "change the sequence.\n",
    "It is equivalent to range(0, 10) and range(10)\n",
    "'''\n",
    "\n",
    "\n",
    "for i in range(0, 10, 1):\n",
    "    print(i)\n",
    "\n"
   ]
  },
  {
   "cell_type": "code",
   "execution_count": 28,
   "metadata": {},
   "outputs": [
    {
     "name": "stdout",
     "output_type": "stream",
     "text": [
      "1\n",
      "2\n",
      "3\n",
      "4\n",
      "5\n",
      "6\n",
      "7\n",
      "8\n",
      "9\n",
      "10\n"
     ]
    }
   ],
   "source": [
    "# 12. Write a short program that prints the numbers 1 to 10 using\n",
    "# a for loop. Then write an equivalent program that prints the numbers\n",
    "# 1 to 10 using a while loop\n",
    "\n",
    "\n",
    "# for i in range(1, 11):\n",
    "    #print(i)\n",
    "    \n",
    "# Using a while loop\n",
    "counter = 1\n",
    "while counter <= 10:\n",
    "    print(counter)\n",
    "    counter += 1\n"
   ]
  },
  {
   "cell_type": "code",
   "execution_count": 2,
   "metadata": {},
   "outputs": [],
   "source": [
    "# 13. If you had a function named bacon() inside a module named \n",
    "# spam, how would you call it after importing spam?\n",
    "\n",
    "\n",
    "\n",
    "import spam\n",
    "\n",
    "spam.bacon()"
   ]
  },
  {
   "cell_type": "code",
   "execution_count": null,
   "metadata": {},
   "outputs": [],
   "source": []
  }
 ],
 "metadata": {
  "kernelspec": {
   "display_name": "base",
   "language": "python",
   "name": "python3"
  },
  "language_info": {
   "codemirror_mode": {
    "name": "ipython",
    "version": 3
   },
   "file_extension": ".py",
   "mimetype": "text/x-python",
   "name": "python",
   "nbconvert_exporter": "python",
   "pygments_lexer": "ipython3",
   "version": "3.11.4"
  }
 },
 "nbformat": 4,
 "nbformat_minor": 2
}
